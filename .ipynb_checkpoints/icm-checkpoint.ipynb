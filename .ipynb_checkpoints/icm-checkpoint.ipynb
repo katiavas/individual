{
 "cells": [
  {
   "cell_type": "code",
   "execution_count": null,
   "id": "a1157b53",
   "metadata": {},
   "outputs": [],
   "source": [
    "import torch as T\n",
    "import torch.nn as nn\n",
    "import torch.nn.functional as F\n",
    "\n",
    "\n",
    "class ICM(nn.Module):\n",
    "    def __init__(self, input_dims, n_actions=2, alpha=1, beta=0.2):\n",
    "        super(ICM, self).__init__()\n",
    "        self.alpha = alpha\n",
    "        self.beta = beta\n",
    "        # hard coded for cartpole environment\n",
    "        self.inverse = nn.Linear(4*2, 256)\n",
    "        self.pi_logits = nn.Linear(256, n_actions)\n",
    "\n",
    "        self.dense1 = nn.Linear(4+1, 256)\n",
    "        self.new_state = nn.Linear(256, 4)\n",
    "\n",
    "        device = T.device('cpu')\n",
    "        self.to(device)\n",
    "\n",
    "    def forward(self, state, new_state, action):\n",
    "        inverse = F.elu(self.inverse(T.cat([state, new_state], dim=1)))\n",
    "        pi_logits = self.pi_logits(inverse)\n",
    "\n",
    "        # from [T] to [T,1]\n",
    "        action = action.reshape((action.size()[0], 1))\n",
    "        forward_input = T.cat([state, action], dim=1)\n",
    "        dense = F.elu(self.dense1(forward_input))\n",
    "        state_ = self.new_state(dense)\n",
    "\n",
    "        return pi_logits, state_\n",
    "\n",
    "    def calc_loss(self, state, new_state, action):\n",
    "        state = T.tensor(state, dtype=T.float)\n",
    "        action = T.tensor(action, dtype=T.float)\n",
    "        new_state = T.tensor(new_state, dtype=T.float)\n",
    "\n",
    "        pi_logits, state_ = self.forward(state, new_state, action)\n",
    "\n",
    "        inverse_loss = nn.CrossEntropyLoss()\n",
    "        L_I = (1-self.beta)*inverse_loss(pi_logits, action.to(T.long))\n",
    "\n",
    "        forward_loss = nn.MSELoss()\n",
    "        L_F = self.beta*forward_loss(state_, new_state)\n",
    "\n",
    "        intrinsic_reward = self.alpha*((state_ - new_state).pow(2)).mean(dim=1)\n",
    "        return intrinsic_reward, L_I, L_F"
   ]
  }
 ],
 "metadata": {
  "kernelspec": {
   "display_name": "Python 3",
   "language": "python",
   "name": "python3"
  },
  "language_info": {
   "codemirror_mode": {
    "name": "ipython",
    "version": 3
   },
   "file_extension": ".py",
   "mimetype": "text/x-python",
   "name": "python",
   "nbconvert_exporter": "python",
   "pygments_lexer": "ipython3",
   "version": "3.8.8"
  }
 },
 "nbformat": 4,
 "nbformat_minor": 5
}
