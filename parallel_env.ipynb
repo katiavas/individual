{
 "cells": [
  {
   "cell_type": "code",
   "execution_count": null,
   "id": "ca1e05fb",
   "metadata": {},
   "outputs": [],
   "source": [
    "import torch.multiprocessing as mp\n",
    "from actor_critic import ActorCritic\n",
    "from icm import ICM\n",
    "from shared_adam import SharedAdam\n",
    "from worker import worker\n",
    "\n",
    "\n",
    "class ParallelEnv:\n",
    "    def __init__(self, env_id, input_shape, n_actions, icm, n_threads=8):\n",
    "        names = [str(i) for i in range(1, n_threads+1)]\n",
    "\n",
    "        global_actor_critic = ActorCritic(input_shape, n_actions)\n",
    "        global_actor_critic.share_memory()\n",
    "        global_optim = SharedAdam(global_actor_critic.parameters())\n",
    "\n",
    "        if not icm:\n",
    "            global_icm = None\n",
    "            global_icm_optim = None\n",
    "        else:\n",
    "            global_icm = ICM(input_shape, n_actions)\n",
    "            global_icm.share_memory()\n",
    "            global_icm_optim = SharedAdam(global_icm.parameters())\n",
    "\n",
    "        self.ps = [mp.Process(target=worker,\n",
    "                              args=(name, input_shape, n_actions,\n",
    "                                    global_actor_critic, global_icm,\n",
    "                                    global_optim, global_icm_optim, env_id,\n",
    "                                    n_threads, icm))\n",
    "                   for name in names]\n",
    "\n",
    "        [p.start() for p in self.ps]\n",
    "        [p.join() for p in self.ps]"
   ]
  }
 ],
 "metadata": {
  "kernelspec": {
   "display_name": "Python 3",
   "language": "python",
   "name": "python3"
  },
  "language_info": {
   "codemirror_mode": {
    "name": "ipython",
    "version": 3
   },
   "file_extension": ".py",
   "mimetype": "text/x-python",
   "name": "python",
   "nbconvert_exporter": "python",
   "pygments_lexer": "ipython3",
   "version": "3.8.8"
  }
 },
 "nbformat": 4,
 "nbformat_minor": 5
}
