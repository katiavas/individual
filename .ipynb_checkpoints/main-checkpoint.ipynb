{
 "cells": [
  {
   "cell_type": "code",
   "execution_count": null,
   "id": "8450e9f0",
   "metadata": {},
   "outputs": [],
   "source": [
    "import os\n",
    "import torch.multiprocessing as mp\n",
    "from parallel_env import ParallelEnv\n",
    "\n",
    "os.environ['OMP_NUM_THREADS'] = '1'\n",
    "\n",
    "\n",
    "if __name__ == '__main__':\n",
    "    mp.set_start_method('spawn')\n",
    "    env_id = 'CartPole-v0'\n",
    "    n_threads = 12\n",
    "    n_actions = 2\n",
    "    input_shape = [4]\n",
    "    env = ParallelEnv(env_id=env_id, n_threads=n_threads,\n",
    "                      n_actions=n_actions, input_shape=input_shape, icm=True)"
   ]
  }
 ],
 "metadata": {
  "kernelspec": {
   "display_name": "Python 3",
   "language": "python",
   "name": "python3"
  },
  "language_info": {
   "codemirror_mode": {
    "name": "ipython",
    "version": 3
   },
   "file_extension": ".py",
   "mimetype": "text/x-python",
   "name": "python",
   "nbconvert_exporter": "python",
   "pygments_lexer": "ipython3",
   "version": "3.8.8"
  }
 },
 "nbformat": 4,
 "nbformat_minor": 5
}
